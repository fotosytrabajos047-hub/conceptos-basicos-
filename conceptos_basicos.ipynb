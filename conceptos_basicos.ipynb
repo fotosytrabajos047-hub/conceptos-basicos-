{
  "nbformat": 4,
  "nbformat_minor": 0,
  "metadata": {
    "colab": {
      "provenance": [],
      "toc_visible": true,
      "mount_file_id": "1Wgf-5IbyyrgzAq1v2GEmJfWSdqGeI90f",
      "authorship_tag": "ABX9TyM6k1Vs2s7e11rue4UUrbm2",
      "include_colab_link": true
    },
    "kernelspec": {
      "name": "python3",
      "display_name": "Python 3"
    },
    "language_info": {
      "name": "python"
    }
  },
  "cells": [
    {
      "cell_type": "markdown",
      "metadata": {
        "id": "view-in-github",
        "colab_type": "text"
      },
      "source": [
        "<a href=\"https://colab.research.google.com/github/fotosytrabajos047-hub/conceptos-basicos-/blob/main/conceptos_basicos.ipynb\" target=\"_parent\"><img src=\"https://colab.research.google.com/assets/colab-badge.svg\" alt=\"Open In Colab\"/></a>"
      ]
    },
    {
      "cell_type": "code",
      "execution_count": null,
      "metadata": {
        "id": "cG-ufFqf10_3"
      },
      "outputs": [],
      "source": []
    },
    {
      "cell_type": "markdown",
      "source": [
        "# Nueva sección"
      ],
      "metadata": {
        "id": "0mJFh3ZN2pyA"
      }
    },
    {
      "cell_type": "markdown",
      "metadata": {
        "id": "3a02b35b"
      },
      "source": [
        "# Task\n",
        "Convert all Word documents found in the directory \"/content/drive/MyDrive/corte1/actividad corte 1\" to PDF format."
      ]
    },
    {
      "cell_type": "markdown",
      "metadata": {
        "id": "439b698d"
      },
      "source": [
        "## Mount google drive\n",
        "\n",
        "### Subtask:\n",
        "Access the user's Google Drive to be able to read files from the specified path.\n"
      ]
    },
    {
      "cell_type": "markdown",
      "metadata": {
        "id": "4a8e2348"
      },
      "source": [
        "**Reasoning**:\n",
        "Mount Google Drive to access files from the specified path.\n",
        "\n"
      ]
    },
    {
      "cell_type": "code",
      "metadata": {
        "colab": {
          "base_uri": "https://localhost:8080/",
          "height": 304
        },
        "id": "e0f7f4f5",
        "outputId": "e7276fe2-e4f4-47ec-ac45-4adc1b38b74c"
      },
      "source": [
        "from google.colab import drive\n",
        "drive.mount('/content/drive')"
      ],
      "execution_count": null,
      "outputs": [
        {
          "output_type": "error",
          "ename": "MessageError",
          "evalue": "Error: credential propagation was unsuccessful",
          "traceback": [
            "\u001b[0;31m---------------------------------------------------------------------------\u001b[0m",
            "\u001b[0;31mMessageError\u001b[0m                              Traceback (most recent call last)",
            "\u001b[0;32m/tmp/ipython-input-1408506528.py\u001b[0m in \u001b[0;36m<cell line: 0>\u001b[0;34m()\u001b[0m\n\u001b[1;32m      1\u001b[0m \u001b[0;32mfrom\u001b[0m \u001b[0mgoogle\u001b[0m\u001b[0;34m.\u001b[0m\u001b[0mcolab\u001b[0m \u001b[0;32mimport\u001b[0m \u001b[0mdrive\u001b[0m\u001b[0;34m\u001b[0m\u001b[0;34m\u001b[0m\u001b[0m\n\u001b[0;32m----> 2\u001b[0;31m \u001b[0mdrive\u001b[0m\u001b[0;34m.\u001b[0m\u001b[0mmount\u001b[0m\u001b[0;34m(\u001b[0m\u001b[0;34m'/content/drive'\u001b[0m\u001b[0;34m)\u001b[0m\u001b[0;34m\u001b[0m\u001b[0;34m\u001b[0m\u001b[0m\n\u001b[0m",
            "\u001b[0;32m/usr/local/lib/python3.12/dist-packages/google/colab/drive.py\u001b[0m in \u001b[0;36mmount\u001b[0;34m(mountpoint, force_remount, timeout_ms, readonly)\u001b[0m\n\u001b[1;32m     98\u001b[0m \u001b[0;32mdef\u001b[0m \u001b[0mmount\u001b[0m\u001b[0;34m(\u001b[0m\u001b[0mmountpoint\u001b[0m\u001b[0;34m,\u001b[0m \u001b[0mforce_remount\u001b[0m\u001b[0;34m=\u001b[0m\u001b[0;32mFalse\u001b[0m\u001b[0;34m,\u001b[0m \u001b[0mtimeout_ms\u001b[0m\u001b[0;34m=\u001b[0m\u001b[0;36m120000\u001b[0m\u001b[0;34m,\u001b[0m \u001b[0mreadonly\u001b[0m\u001b[0;34m=\u001b[0m\u001b[0;32mFalse\u001b[0m\u001b[0;34m)\u001b[0m\u001b[0;34m:\u001b[0m\u001b[0;34m\u001b[0m\u001b[0;34m\u001b[0m\u001b[0m\n\u001b[1;32m     99\u001b[0m   \u001b[0;34m\"\"\"Mount your Google Drive at the specified mountpoint path.\"\"\"\u001b[0m\u001b[0;34m\u001b[0m\u001b[0;34m\u001b[0m\u001b[0m\n\u001b[0;32m--> 100\u001b[0;31m   return _mount(\n\u001b[0m\u001b[1;32m    101\u001b[0m       \u001b[0mmountpoint\u001b[0m\u001b[0;34m,\u001b[0m\u001b[0;34m\u001b[0m\u001b[0;34m\u001b[0m\u001b[0m\n\u001b[1;32m    102\u001b[0m       \u001b[0mforce_remount\u001b[0m\u001b[0;34m=\u001b[0m\u001b[0mforce_remount\u001b[0m\u001b[0;34m,\u001b[0m\u001b[0;34m\u001b[0m\u001b[0;34m\u001b[0m\u001b[0m\n",
            "\u001b[0;32m/usr/local/lib/python3.12/dist-packages/google/colab/drive.py\u001b[0m in \u001b[0;36m_mount\u001b[0;34m(mountpoint, force_remount, timeout_ms, ephemeral, readonly)\u001b[0m\n\u001b[1;32m    135\u001b[0m   )\n\u001b[1;32m    136\u001b[0m   \u001b[0;32mif\u001b[0m \u001b[0mephemeral\u001b[0m\u001b[0;34m:\u001b[0m\u001b[0;34m\u001b[0m\u001b[0;34m\u001b[0m\u001b[0m\n\u001b[0;32m--> 137\u001b[0;31m     _message.blocking_request(\n\u001b[0m\u001b[1;32m    138\u001b[0m         \u001b[0;34m'request_auth'\u001b[0m\u001b[0;34m,\u001b[0m\u001b[0;34m\u001b[0m\u001b[0;34m\u001b[0m\u001b[0m\n\u001b[1;32m    139\u001b[0m         \u001b[0mrequest\u001b[0m\u001b[0;34m=\u001b[0m\u001b[0;34m{\u001b[0m\u001b[0;34m'authType'\u001b[0m\u001b[0;34m:\u001b[0m \u001b[0;34m'dfs_ephemeral'\u001b[0m\u001b[0;34m}\u001b[0m\u001b[0;34m,\u001b[0m\u001b[0;34m\u001b[0m\u001b[0;34m\u001b[0m\u001b[0m\n",
            "\u001b[0;32m/usr/local/lib/python3.12/dist-packages/google/colab/_message.py\u001b[0m in \u001b[0;36mblocking_request\u001b[0;34m(request_type, request, timeout_sec, parent)\u001b[0m\n\u001b[1;32m    174\u001b[0m       \u001b[0mrequest_type\u001b[0m\u001b[0;34m,\u001b[0m \u001b[0mrequest\u001b[0m\u001b[0;34m,\u001b[0m \u001b[0mparent\u001b[0m\u001b[0;34m=\u001b[0m\u001b[0mparent\u001b[0m\u001b[0;34m,\u001b[0m \u001b[0mexpect_reply\u001b[0m\u001b[0;34m=\u001b[0m\u001b[0;32mTrue\u001b[0m\u001b[0;34m\u001b[0m\u001b[0;34m\u001b[0m\u001b[0m\n\u001b[1;32m    175\u001b[0m   )\n\u001b[0;32m--> 176\u001b[0;31m   \u001b[0;32mreturn\u001b[0m \u001b[0mread_reply_from_input\u001b[0m\u001b[0;34m(\u001b[0m\u001b[0mrequest_id\u001b[0m\u001b[0;34m,\u001b[0m \u001b[0mtimeout_sec\u001b[0m\u001b[0;34m)\u001b[0m\u001b[0;34m\u001b[0m\u001b[0;34m\u001b[0m\u001b[0m\n\u001b[0m",
            "\u001b[0;32m/usr/local/lib/python3.12/dist-packages/google/colab/_message.py\u001b[0m in \u001b[0;36mread_reply_from_input\u001b[0;34m(message_id, timeout_sec)\u001b[0m\n\u001b[1;32m    101\u001b[0m     ):\n\u001b[1;32m    102\u001b[0m       \u001b[0;32mif\u001b[0m \u001b[0;34m'error'\u001b[0m \u001b[0;32min\u001b[0m \u001b[0mreply\u001b[0m\u001b[0;34m:\u001b[0m\u001b[0;34m\u001b[0m\u001b[0;34m\u001b[0m\u001b[0m\n\u001b[0;32m--> 103\u001b[0;31m         \u001b[0;32mraise\u001b[0m \u001b[0mMessageError\u001b[0m\u001b[0;34m(\u001b[0m\u001b[0mreply\u001b[0m\u001b[0;34m[\u001b[0m\u001b[0;34m'error'\u001b[0m\u001b[0;34m]\u001b[0m\u001b[0;34m)\u001b[0m\u001b[0;34m\u001b[0m\u001b[0;34m\u001b[0m\u001b[0m\n\u001b[0m\u001b[1;32m    104\u001b[0m       \u001b[0;32mreturn\u001b[0m \u001b[0mreply\u001b[0m\u001b[0;34m.\u001b[0m\u001b[0mget\u001b[0m\u001b[0;34m(\u001b[0m\u001b[0;34m'data'\u001b[0m\u001b[0;34m,\u001b[0m \u001b[0;32mNone\u001b[0m\u001b[0;34m)\u001b[0m\u001b[0;34m\u001b[0m\u001b[0;34m\u001b[0m\u001b[0m\n\u001b[1;32m    105\u001b[0m \u001b[0;34m\u001b[0m\u001b[0m\n",
            "\u001b[0;31mMessageError\u001b[0m: Error: credential propagation was unsuccessful"
          ]
        }
      ]
    },
    {
      "cell_type": "markdown",
      "metadata": {
        "id": "fd68c1be"
      },
      "source": [
        "## Mount google drive\n",
        "\n",
        "### Subtask:\n",
        "Mount google drive\n"
      ]
    },
    {
      "cell_type": "markdown",
      "metadata": {
        "id": "e16c2bb8"
      },
      "source": [
        "**Reasoning**:\n",
        "Attempt to mount Google Drive again as instructed.\n",
        "\n"
      ]
    },
    {
      "cell_type": "code",
      "metadata": {
        "colab": {
          "base_uri": "https://localhost:8080/"
        },
        "id": "88782f99",
        "outputId": "b7213c6d-ebbe-4e59-a57a-fd6c1b2b3b9e"
      },
      "source": [
        "from google.colab import drive\n",
        "drive.mount('/content/drive')"
      ],
      "execution_count": null,
      "outputs": [
        {
          "output_type": "stream",
          "name": "stdout",
          "text": [
            "Drive already mounted at /content/drive; to attempt to forcibly remount, call drive.mount(\"/content/drive\", force_remount=True).\n"
          ]
        }
      ]
    },
    {
      "cell_type": "markdown",
      "metadata": {
        "id": "e731cfae"
      },
      "source": [
        "## Identify word documents\n",
        "\n",
        "### Subtask:\n",
        "Find all files ending with `.docx` or `.doc` within the specified directory `/content/drive/MyDrive/corte1/actividad corte 1`.\n"
      ]
    },
    {
      "cell_type": "markdown",
      "metadata": {
        "id": "f2303f9e"
      },
      "source": [
        "**Reasoning**:\n",
        "Find all files ending with `.docx` or `.doc` within the specified directory `/content/drive/MyDrive/corte1/actividad corte 1`.\n",
        "\n"
      ]
    },
    {
      "cell_type": "code",
      "metadata": {
        "colab": {
          "base_uri": "https://localhost:8080/"
        },
        "id": "ba35d4b7",
        "outputId": "659e4e1c-d99f-4226-9d61-eddc5d4654a9"
      },
      "source": [
        "import os\n",
        "\n",
        "directory_path = \"/content/drive/MyDrive/corte1/actividad corte 1\"\n",
        "\n",
        "word_files = []\n",
        "if os.path.isdir(directory_path):\n",
        "    for item in os.listdir(directory_path):\n",
        "        item_path = os.path.join(directory_path, item)\n",
        "        if os.path.isfile(item_path):\n",
        "            if item.lower().endswith(('.docx', '.doc')):\n",
        "                word_files.append(item_path)\n",
        "\n",
        "print(\"Identified Word documents:\")\n",
        "print(word_files)"
      ],
      "execution_count": null,
      "outputs": [
        {
          "output_type": "stream",
          "name": "stdout",
          "text": [
            "Identified Word documents:\n",
            "['/content/drive/MyDrive/corte1/actividad corte 1/ACUERDO PEDAGOGICO - Estadística Industrial B.docx', '/content/drive/MyDrive/corte1/actividad corte 1/ACUERDO PEDAGOGICO - Metodología Investigación B - copia.docx', '/content/drive/MyDrive/corte1/actividad corte 1/ACUERDO PEDAGOGICO - Metodología Investigación B.docx', '/content/drive/MyDrive/corte1/actividad corte 1/ACUERDO PEDAGOGICO - Estadística Industrial A.docx', '/content/drive/MyDrive/corte1/actividad corte 1/ACUERDO PEDAGOGICO - Metodología Investigación A - copia.docx', '/content/drive/MyDrive/corte1/actividad corte 1/ACUERDO PEDAGOGICO - P2 - Producción Agroindustrial.docx', '/content/drive/MyDrive/corte1/actividad corte 1/ACUERDO PEDAGOGICO - Metodología Investigación A.docx', '/content/drive/MyDrive/corte1/actividad corte 1/ACUERDO PEDAGOGICO - Introducción a la Ingeniería.docx', '/content/drive/MyDrive/corte1/actividad corte 1/ACUERDO PEDAGOGICO - P1 - Ciencia de Datos.docx', '/content/drive/MyDrive/corte1/actividad corte 1/ACUERDO PEDAGOGICO - Estadística Industrial A - copia.docx', '/content/drive/MyDrive/corte1/actividad corte 1/ACUERDO PEDAGOGICO - P2 - Producción Agroindustrial - copia.docx', '/content/drive/MyDrive/corte1/actividad corte 1/ACUERDO PEDAGOGICO - Estadística Industrial B - copia.docx', '/content/drive/MyDrive/corte1/actividad corte 1/ACUERDO PEDAGOGICO - P1 - Ciencia de Datos - copia.docx', '/content/drive/MyDrive/corte1/actividad corte 1/ACUERDO PEDAGOGICO - Introducción a la Ingeniería - copia.docx']\n"
          ]
        }
      ]
    },
    {
      "cell_type": "markdown",
      "metadata": {
        "id": "167570d9"
      },
      "source": [
        "## Install necessary libraries\n",
        "\n",
        "### Subtask:\n",
        "Install a library that can handle Word to PDF conversion, such as `python-docx` and `pyexcel-ods3` (often needed as a dependency), and potentially a library for PDF conversion like `libreoffice-convert`.\n"
      ]
    },
    {
      "cell_type": "markdown",
      "metadata": {
        "id": "c2a122fe"
      },
      "source": [
        "**Reasoning**:\n",
        "Install the required libraries and packages for Word to PDF conversion.\n",
        "\n"
      ]
    },
    {
      "cell_type": "markdown",
      "metadata": {
        "id": "c6b858bf"
      },
      "source": [
        "## Convert word to pdf\n",
        "\n",
        "### Subtask:\n",
        "Iterate through the identified Word documents and convert each one to a PDF file. This step will likely require using an external tool or library capable of this conversion, such as LibreOffice via a system call.\n"
      ]
    },
    {
      "cell_type": "markdown",
      "metadata": {
        "id": "ef6074a3"
      },
      "source": [
        "**Reasoning**:\n",
        "Iterate through the identified Word documents and convert each one to a PDF file using LibreOffice.\n",
        "\n"
      ]
    },
    {
      "cell_type": "code",
      "metadata": {
        "colab": {
          "base_uri": "https://localhost:8080/"
        },
        "id": "62d57d6f",
        "outputId": "b280dc52-ce38-4fe3-9b91-b1f54ca9b445"
      },
      "source": [
        "import subprocess\n",
        "import os\n",
        "\n",
        "for word_file in word_files:\n",
        "    output_dir = os.path.dirname(word_file)\n",
        "    output_file = os.path.splitext(word_file)[0] + \".pdf\"\n",
        "\n",
        "    try:\n",
        "        subprocess.run([\n",
        "            \"libreoffice\",\n",
        "            \"--headless\",\n",
        "            \"--convert-to\",\n",
        "            \"pdf\",\n",
        "            \"--outdir\",\n",
        "            output_dir,\n",
        "            word_file\n",
        "        ], check=True)\n",
        "        print(f\"Successfully converted {word_file} to PDF.\")\n",
        "    except subprocess.CalledProcessError as e:\n",
        "        print(f\"Error converting {word_file}: {e}\")\n"
      ],
      "execution_count": null,
      "outputs": [
        {
          "output_type": "stream",
          "name": "stdout",
          "text": [
            "Successfully converted /content/drive/MyDrive/corte1/actividad corte 1/ACUERDO PEDAGOGICO - Estadística Industrial B.docx to PDF.\n",
            "Successfully converted /content/drive/MyDrive/corte1/actividad corte 1/ACUERDO PEDAGOGICO - Metodología Investigación B - copia.docx to PDF.\n",
            "Successfully converted /content/drive/MyDrive/corte1/actividad corte 1/ACUERDO PEDAGOGICO - Metodología Investigación B.docx to PDF.\n",
            "Successfully converted /content/drive/MyDrive/corte1/actividad corte 1/ACUERDO PEDAGOGICO - Estadística Industrial A.docx to PDF.\n",
            "Successfully converted /content/drive/MyDrive/corte1/actividad corte 1/ACUERDO PEDAGOGICO - Metodología Investigación A - copia.docx to PDF.\n",
            "Successfully converted /content/drive/MyDrive/corte1/actividad corte 1/ACUERDO PEDAGOGICO - P2 - Producción Agroindustrial.docx to PDF.\n",
            "Successfully converted /content/drive/MyDrive/corte1/actividad corte 1/ACUERDO PEDAGOGICO - Metodología Investigación A.docx to PDF.\n",
            "Successfully converted /content/drive/MyDrive/corte1/actividad corte 1/ACUERDO PEDAGOGICO - Introducción a la Ingeniería.docx to PDF.\n",
            "Successfully converted /content/drive/MyDrive/corte1/actividad corte 1/ACUERDO PEDAGOGICO - P1 - Ciencia de Datos.docx to PDF.\n",
            "Successfully converted /content/drive/MyDrive/corte1/actividad corte 1/ACUERDO PEDAGOGICO - Estadística Industrial A - copia.docx to PDF.\n",
            "Successfully converted /content/drive/MyDrive/corte1/actividad corte 1/ACUERDO PEDAGOGICO - P2 - Producción Agroindustrial - copia.docx to PDF.\n",
            "Successfully converted /content/drive/MyDrive/corte1/actividad corte 1/ACUERDO PEDAGOGICO - Estadística Industrial B - copia.docx to PDF.\n",
            "Successfully converted /content/drive/MyDrive/corte1/actividad corte 1/ACUERDO PEDAGOGICO - P1 - Ciencia de Datos - copia.docx to PDF.\n",
            "Successfully converted /content/drive/MyDrive/corte1/actividad corte 1/ACUERDO PEDAGOGICO - Introducción a la Ingeniería - copia.docx to PDF.\n"
          ]
        }
      ]
    },
    {
      "cell_type": "markdown",
      "metadata": {
        "id": "e39fecbd"
      },
      "source": [
        "## Verify conversion\n",
        "\n",
        "### Subtask:\n",
        "Optionally, verify that the conversion was successful by listing the newly created PDF files.\n"
      ]
    },
    {
      "cell_type": "markdown",
      "metadata": {
        "id": "e9dda2f9"
      },
      "source": [
        "**Reasoning**:\n",
        "List all files in the target directory and filter for PDF files to verify the conversion.\n",
        "\n"
      ]
    },
    {
      "cell_type": "code",
      "metadata": {
        "colab": {
          "base_uri": "https://localhost:8080/"
        },
        "id": "ee35b74a",
        "outputId": "c21f223c-72c3-4670-cc92-169032ac71b7"
      },
      "source": [
        "import os\n",
        "\n",
        "directory_path = \"/content/drive/MyDrive/corte1/actividad corte 1\"\n",
        "\n",
        "pdf_files = []\n",
        "if os.path.isdir(directory_path):\n",
        "    for item in os.listdir(directory_path):\n",
        "        item_path = os.path.join(directory_path, item)\n",
        "        if os.path.isfile(item_path):\n",
        "            if item.lower().endswith('.pdf'):\n",
        "                pdf_files.append(item_path)\n",
        "\n",
        "print(\"Identified PDF files:\")\n",
        "print(pdf_files)"
      ],
      "execution_count": null,
      "outputs": [
        {
          "output_type": "stream",
          "name": "stdout",
          "text": [
            "Identified PDF files:\n",
            "['/content/drive/MyDrive/corte1/actividad corte 1/ACUERDO PEDAGOGICO - Estadística Industrial B.pdf', '/content/drive/MyDrive/corte1/actividad corte 1/ACUERDO PEDAGOGICO - Metodología Investigación B - copia.pdf', '/content/drive/MyDrive/corte1/actividad corte 1/ACUERDO PEDAGOGICO - Metodología Investigación B.pdf', '/content/drive/MyDrive/corte1/actividad corte 1/ACUERDO PEDAGOGICO - Estadística Industrial A.pdf', '/content/drive/MyDrive/corte1/actividad corte 1/ACUERDO PEDAGOGICO - Metodología Investigación A - copia.pdf', '/content/drive/MyDrive/corte1/actividad corte 1/ACUERDO PEDAGOGICO - P2 - Producción Agroindustrial.pdf', '/content/drive/MyDrive/corte1/actividad corte 1/ACUERDO PEDAGOGICO - Metodología Investigación A.pdf', '/content/drive/MyDrive/corte1/actividad corte 1/ACUERDO PEDAGOGICO - Introducción a la Ingeniería.pdf', '/content/drive/MyDrive/corte1/actividad corte 1/ACUERDO PEDAGOGICO - P1 - Ciencia de Datos.pdf', '/content/drive/MyDrive/corte1/actividad corte 1/ACUERDO PEDAGOGICO - Estadística Industrial A - copia.pdf', '/content/drive/MyDrive/corte1/actividad corte 1/ACUERDO PEDAGOGICO - P2 - Producción Agroindustrial - copia.pdf', '/content/drive/MyDrive/corte1/actividad corte 1/ACUERDO PEDAGOGICO - Estadística Industrial B - copia.pdf', '/content/drive/MyDrive/corte1/actividad corte 1/ACUERDO PEDAGOGICO - P1 - Ciencia de Datos - copia.pdf', '/content/drive/MyDrive/corte1/actividad corte 1/ACUERDO PEDAGOGICO - Introducción a la Ingeniería - copia.pdf']\n"
          ]
        }
      ]
    },
    {
      "cell_type": "markdown",
      "metadata": {
        "id": "0e6bd733"
      },
      "source": [
        "## Summary:\n",
        "\n",
        "### Data Analysis Key Findings\n",
        "\n",
        "*   The Google Drive was successfully mounted at `/content/drive`.\n",
        "*   A total of 14 Word documents with `.docx` or `.doc` extensions were identified in the specified directory.\n",
        "*   The necessary libraries (`python-docx`, `pyexcel-ods3`) and software (`libreoffice`, `libreoffice-writer`) for Word to PDF conversion were successfully installed.\n",
        "*   All 14 identified Word documents were successfully converted to PDF format using LibreOffice and saved in the same directory as the original files.\n",
        "*   Verification confirmed the presence of 14 PDF files in the target directory after the conversion process.\n",
        "\n",
        "### Insights or Next Steps\n",
        "\n",
        "*   The successful conversion of all identified Word documents to PDF fulfills the primary objective of the task.\n",
        "*   Future tasks could involve organizing the converted PDF files into a separate output directory or performing further analysis on the content of the converted documents.\n"
      ]
    },
    {
      "cell_type": "code",
      "source": [],
      "metadata": {
        "id": "k9_EpO8ygc-J"
      },
      "execution_count": null,
      "outputs": []
    },
    {
      "cell_type": "markdown",
      "source": [
        "FUNCIONES\n"
      ],
      "metadata": {
        "id": "J0lVThwnhm1-"
      }
    },
    {
      "cell_type": "code",
      "source": [
        "def saludo ()\n",
        "  print(\"Hola Mundo\")"
      ],
      "metadata": {
        "id": "DgnN4_N5hrpd"
      },
      "execution_count": null,
      "outputs": []
    },
    {
      "cell_type": "code",
      "source": [
        "#area de circulo\n",
        "def area_circulo(radio):\n",
        "  pi=3.14159\n",
        "  area=pi*(radio**2)\n",
        "  return area"
      ],
      "metadata": {
        "id": "1vdf1EZDiCrd"
      },
      "execution_count": 3,
      "outputs": []
    },
    {
      "cell_type": "code",
      "source": [
        "area_circulo(5)"
      ],
      "metadata": {
        "colab": {
          "base_uri": "https://localhost:8080/"
        },
        "id": "Z_Ogm2ksjQM6",
        "outputId": "f2492034-ca5b-44ef-819c-5a2db546d63d"
      },
      "execution_count": 4,
      "outputs": [
        {
          "output_type": "execute_result",
          "data": {
            "text/plain": [
              "78.53975"
            ]
          },
          "metadata": {},
          "execution_count": 4
        }
      ]
    },
    {
      "cell_type": "code",
      "source": [
        "def temperatura_fahrenheit(celsius):\n",
        "  fahrenheit=(celsius * 9/5) + 32\n",
        "  return fahrenheit\n",
        "\n",
        ""
      ],
      "metadata": {
        "id": "zA6qnPwojuqo"
      },
      "execution_count": 11,
      "outputs": []
    },
    {
      "cell_type": "code",
      "source": [
        "temperatura_fahrenheit(20)"
      ],
      "metadata": {
        "colab": {
          "base_uri": "https://localhost:8080/"
        },
        "id": "831Voq5hkF6b",
        "outputId": "1312407a-f855-467a-aae3-7de61879cb0f"
      },
      "execution_count": 13,
      "outputs": [
        {
          "output_type": "execute_result",
          "data": {
            "text/plain": [
              "68.0"
            ]
          },
          "metadata": {},
          "execution_count": 13
        }
      ]
    },
    {
      "cell_type": "code",
      "source": [
        "import pandas as pd\n"
      ],
      "metadata": {
        "id": "749gcE2LlBG_"
      },
      "execution_count": null,
      "outputs": []
    }
  ]
}